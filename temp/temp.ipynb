{
 "cells": [
  {
   "cell_type": "code",
   "execution_count": null,
   "metadata": {},
   "outputs": [],
   "source": [
    "# You can easily and quickly test new code in a notebook\n",
    "# before adding it to the survey (the __ini__.py file)\n",
    "import os\n",
    "\n",
    "import matplotlib.pyplot as plt\n",
    "import seaborn as sns\n",
    "from hemlock import create_test_app\n",
    "from hemlock_ax import init_test_app, run_test\n",
    "\n",
    "import src\n",
    "\n",
    "# remove GITPOD_HOST from environment\n",
    "# this is used for redirects when running an app in gitpod\n",
    "# but here we're only running a test app\n",
    "os.environ.pop(\"GITPOD_HOST\", None)\n",
    "\n",
    "sns.set()\n",
    "app = create_test_app()\n",
    "init_test_app(app)\n",
    "df = run_test(100)[0]\n",
    "df.head()"
   ]
  },
  {
   "cell_type": "code",
   "execution_count": null,
   "metadata": {},
   "outputs": [],
   "source": [
    "sns.lineplot(data=df, x=\"n_assigned_users\", y=\"pr_best\", hue=\"assignment\")\n",
    "plt.legend(bbox_to_anchor=(1,1), loc=\"upper left\")\n",
    "plt.show()"
   ]
  },
  {
   "cell_type": "code",
   "execution_count": null,
   "metadata": {},
   "outputs": [],
   "source": [
    "sns.lineplot(data=df, x=\"n_assigned_users\", y=\"weight\", hue=\"assignment\")\n",
    "plt.legend(bbox_to_anchor=(1,1), loc=\"upper left\")\n",
    "plt.show()"
   ]
  },
  {
   "cell_type": "code",
   "execution_count": null,
   "metadata": {},
   "outputs": [],
   "source": [
    "sns.lineplot(data=df, x=\"n_assigned_users\", y=\"cum_assigned\", hue=\"assignment\")\n",
    "plt.legend(bbox_to_anchor=(1,1), loc=\"upper left\")\n",
    "plt.show()"
   ]
  },
  {
   "cell_type": "code",
   "execution_count": null,
   "metadata": {},
   "outputs": [],
   "source": []
  }
 ],
 "metadata": {
  "interpreter": {
   "hash": "2434e11b61ef8302e9f77cff4a3245687722323e4c9355550d8128586d99375c"
  },
  "kernelspec": {
   "display_name": "Python 3.9.7 64-bit ('hemlock-template': conda)",
   "language": "python",
   "name": "python3"
  },
  "language_info": {
   "codemirror_mode": {
    "name": "ipython",
    "version": 3
   },
   "file_extension": ".py",
   "mimetype": "text/x-python",
   "name": "python",
   "nbconvert_exporter": "python",
   "pygments_lexer": "ipython3",
   "version": "3.8.10"
  },
  "orig_nbformat": 4
 },
 "nbformat": 4,
 "nbformat_minor": 2
}
